{
 "cells": [
  {
   "cell_type": "markdown",
   "metadata": {},
   "source": [
    "# WeatherPy\n",
    "----\n",
    "\n",
    "#### Note\n",
    "* Instructions have been included for each segment. You do not have to follow them exactly, but they are included to help you think through the steps."
   ]
  },
  {
   "cell_type": "code",
   "execution_count": 1,
   "metadata": {
    "scrolled": true
   },
   "outputs": [],
   "source": [
    "# Dependencies and Setup\n",
    "import matplotlib.pyplot as plt\n",
    "import pandas as pd\n",
    "import numpy as np\n",
    "import requests\n",
    "import time\n",
    "from scipy.stats import linregress\n",
    "\n",
    "# Import API key\n",
    "from api_keys import weather_api_key\n",
    "\n",
    "# Incorporated citipy to determine city based on latitude and longitude\n",
    "from citipy import citipy\n",
    "\n",
    "\n",
    "# Output File (CSV)\n",
    "output_data_file = \"../output_data/cities.csv\"\n",
    "\n",
    "# Range of latitudes and longitudes\n",
    "lat_range = (-90, 90)\n",
    "lng_range = (-180, 180)"
   ]
  },
  {
   "cell_type": "code",
   "execution_count": 2,
   "metadata": {},
   "outputs": [],
   "source": [
    "#pip install citipy"
   ]
  },
  {
   "cell_type": "markdown",
   "metadata": {},
   "source": [
    "## Generate Cities List"
   ]
  },
  {
   "cell_type": "code",
   "execution_count": 3,
   "metadata": {},
   "outputs": [
    {
     "data": {
      "text/plain": [
       "646"
      ]
     },
     "execution_count": 3,
     "metadata": {},
     "output_type": "execute_result"
    }
   ],
   "source": [
    "# List for holding lat_lngs and cities\n",
    "lat_lngs = []\n",
    "cities = []\n",
    "\n",
    "# Create a set of random lat and lng combinations\n",
    "lats = np.random.uniform(low=-90.000, high=90.000, size=1500)\n",
    "lngs = np.random.uniform(low=-180.000, high=180.000, size=1500)\n",
    "lat_lngs = zip(lats, lngs)\n",
    "\n",
    "# Identify nearest city for each lat, lng combination\n",
    "for lat_lng in lat_lngs:\n",
    "    city = citipy.nearest_city(lat_lng[0], lat_lng[1]).city_name\n",
    "    \n",
    "    # If the city is unique, then add it to a our cities list\n",
    "    if city not in cities:\n",
    "        cities.append(city)\n",
    "\n",
    "# Print the city count to confirm sufficient count\n",
    "len(cities)"
   ]
  },
  {
   "cell_type": "code",
   "execution_count": 4,
   "metadata": {},
   "outputs": [],
   "source": [
    "#print(cities)"
   ]
  },
  {
   "cell_type": "markdown",
   "metadata": {},
   "source": [
    "### Perform API Calls\n",
    "* Perform a weather check on each city using a series of successive API calls.\n",
    "* Include a print log of each city as it'sbeing processed (with the city number and city name)."
   ]
  },
  {
   "cell_type": "code",
   "execution_count": 5,
   "metadata": {},
   "outputs": [
    {
     "name": "stdout",
     "output_type": "stream",
     "text": [
      "Processing Record 1 of Set 1| kapaa\n",
      "Processing Record 2 of Set 1| crotone\n",
      "Processing Record 3 of Set 1| tiksi\n",
      "Processing Record 4 of Set 1| kingman\n",
      "Processing Record 5 of Set 1| avarua\n",
      "Processing Record 6 of Set 1| guarapari\n",
      "Processing Record 7 of Set 1| zhongshu\n",
      "Processing Record 8 of Set 1| codrington\n",
      "City not found. Skipping...\n",
      "Processing Record 10 of Set 1| jinka\n",
      "Processing Record 11 of Set 1| georgetown\n",
      "Processing Record 12 of Set 1| clyde river\n",
      "Processing Record 13 of Set 1| hithadhoo\n",
      "Processing Record 14 of Set 1| multan\n",
      "Processing Record 15 of Set 1| shimoda\n",
      "Processing Record 16 of Set 1| lorengau\n",
      "Processing Record 17 of Set 1| sibolga\n",
      "Processing Record 18 of Set 1| casper\n",
      "Processing Record 19 of Set 1| cabo san lucas\n",
      "Processing Record 20 of Set 1| honiara\n",
      "Processing Record 21 of Set 1| severnyy\n",
      "Processing Record 22 of Set 1| barrow\n",
      "Processing Record 23 of Set 1| grand gaube\n",
      "Processing Record 24 of Set 1| darhan\n",
      "Processing Record 25 of Set 1| sitka\n",
      "Processing Record 26 of Set 1| busselton\n",
      "Processing Record 27 of Set 1| muscle shoals\n",
      "Processing Record 28 of Set 1| myitkyina\n",
      "Processing Record 29 of Set 1| nicoya\n",
      "Processing Record 30 of Set 1| sorong\n",
      "Processing Record 31 of Set 1| muzhi\n",
      "Processing Record 32 of Set 1| faanui\n",
      "Processing Record 33 of Set 1| thompson\n",
      "Processing Record 34 of Set 1| port macquarie\n",
      "Processing Record 35 of Set 1| kahului\n",
      "Processing Record 36 of Set 1| alto araguaia\n",
      "Processing Record 37 of Set 1| atuona\n",
      "Processing Record 38 of Set 1| dikson\n",
      "Processing Record 39 of Set 1| yulara\n",
      "Processing Record 40 of Set 1| vestmanna\n",
      "Processing Record 41 of Set 1| abnub\n",
      "Processing Record 42 of Set 1| cape town\n",
      "Processing Record 43 of Set 1| kavaratti\n",
      "Processing Record 44 of Set 1| rawson\n",
      "Processing Record 45 of Set 1| rikitea\n",
      "Processing Record 46 of Set 1| geraldton\n",
      "Processing Record 47 of Set 1| ancud\n",
      "Processing Record 48 of Set 1| paamiut\n",
      "Processing Record 49 of Set 1| mar del plata\n",
      "Processing Record 50 of Set 1| ambon\n",
      "Processing Record 1 of Set 2| pangnirtung\n",
      "Processing Record 2 of Set 2| dustlik\n",
      "Processing Record 3 of Set 2| albany\n",
      "Processing Record 4 of Set 2| baoro\n",
      "Processing Record 5 of Set 2| saskylakh\n",
      "Processing Record 6 of Set 2| ushuaia\n",
      "Processing Record 7 of Set 2| visby\n",
      "Processing Record 8 of Set 2| erenhot\n",
      "Processing Record 9 of Set 2| east london\n",
      "Processing Record 10 of Set 2| airai\n",
      "Processing Record 11 of Set 2| te anau\n",
      "City not found. Skipping...\n",
      "Processing Record 13 of Set 2| lebu\n",
      "Processing Record 14 of Set 2| puerto ayora\n",
      "Processing Record 15 of Set 2| bucak\n",
      "Processing Record 16 of Set 2| tevaitoa\n",
      "Processing Record 17 of Set 2| dingle\n",
      "Processing Record 18 of Set 2| tiarei\n",
      "City not found. Skipping...\n",
      "City not found. Skipping...\n",
      "City not found. Skipping...\n",
      "Processing Record 22 of Set 2| hermanus\n",
      "Processing Record 23 of Set 2| longonjo\n",
      "City not found. Skipping...\n",
      "Processing Record 25 of Set 2| yellowknife\n",
      "Processing Record 26 of Set 2| tarnogskiy gorodok\n",
      "Processing Record 27 of Set 2| port shepstone\n",
      "Processing Record 28 of Set 2| road town\n",
      "City not found. Skipping...\n",
      "Processing Record 30 of Set 2| mataura\n",
      "Processing Record 31 of Set 2| assiniboia\n",
      "Processing Record 32 of Set 2| yilan\n",
      "Processing Record 33 of Set 2| coquimbo\n",
      "Processing Record 34 of Set 2| ballina\n",
      "Processing Record 35 of Set 2| iisalmi\n",
      "Processing Record 36 of Set 2| longyearbyen\n",
      "Processing Record 37 of Set 2| birjand\n",
      "City not found. Skipping...\n",
      "Processing Record 39 of Set 2| ashtian\n",
      "Processing Record 40 of Set 2| san vicente\n",
      "Processing Record 41 of Set 2| castro\n",
      "City not found. Skipping...\n",
      "Processing Record 43 of Set 2| dali\n",
      "City not found. Skipping...\n",
      "Processing Record 45 of Set 2| new norfolk\n",
      "Processing Record 46 of Set 2| constitucion\n",
      "Processing Record 47 of Set 2| hobart\n",
      "Processing Record 48 of Set 2| victoria\n",
      "Processing Record 49 of Set 2| bengkulu\n",
      "Processing Record 50 of Set 2| kununurra\n",
      "Processing Record 1 of Set 3| vestmannaeyjar\n",
      "Processing Record 2 of Set 3| carnarvon\n",
      "Processing Record 3 of Set 3| malatya\n",
      "Processing Record 4 of Set 3| itupiranga\n",
      "Processing Record 5 of Set 3| parkersburg\n",
      "City not found. Skipping...\n",
      "Processing Record 7 of Set 3| ladario\n",
      "Processing Record 8 of Set 3| houlton\n",
      "Processing Record 9 of Set 3| rudbar\n",
      "City not found. Skipping...\n",
      "Processing Record 11 of Set 3| berlevag\n",
      "Processing Record 12 of Set 3| port alfred\n",
      "Processing Record 13 of Set 3| norman wells\n",
      "City not found. Skipping...\n",
      "Processing Record 15 of Set 3| san joaquin\n",
      "Processing Record 16 of Set 3| bluff\n",
      "Processing Record 17 of Set 3| mahajanga\n",
      "City not found. Skipping...\n",
      "Processing Record 19 of Set 3| mehamn\n",
      "Processing Record 20 of Set 3| cap malheureux\n",
      "Processing Record 21 of Set 3| menongue\n",
      "Processing Record 22 of Set 3| sola\n",
      "Processing Record 23 of Set 3| donskoye\n",
      "Processing Record 24 of Set 3| flinders\n",
      "Processing Record 25 of Set 3| storm lake\n",
      "City not found. Skipping...\n",
      "Processing Record 27 of Set 3| cam ranh\n",
      "Processing Record 28 of Set 3| kupang\n",
      "Processing Record 29 of Set 3| bambous virieux\n",
      "Processing Record 30 of Set 3| byron bay\n",
      "Processing Record 31 of Set 3| baie-comeau\n",
      "Processing Record 32 of Set 3| pringsewu\n",
      "Processing Record 33 of Set 3| punta arenas\n",
      "Processing Record 34 of Set 3| poum\n",
      "Processing Record 35 of Set 3| claremore\n",
      "Processing Record 36 of Set 3| vaini\n",
      "Processing Record 37 of Set 3| cidreira\n",
      "Processing Record 38 of Set 3| nisia floresta\n",
      "Processing Record 39 of Set 3| grand falls\n",
      "Processing Record 40 of Set 3| hasaki\n",
      "Processing Record 41 of Set 3| deputatskiy\n",
      "Processing Record 42 of Set 3| maues\n",
      "Processing Record 43 of Set 3| saint-philippe\n",
      "Processing Record 44 of Set 3| hilo\n",
      "Processing Record 45 of Set 3| tilichiki\n",
      "Processing Record 46 of Set 3| pailon\n",
      "City not found. Skipping...\n",
      "Processing Record 48 of Set 3| nanortalik\n",
      "Processing Record 49 of Set 3| batagay\n",
      "Processing Record 50 of Set 3| salalah\n",
      "Processing Record 1 of Set 4| charyshskoye\n",
      "Processing Record 2 of Set 4| nabire\n",
      "Processing Record 3 of Set 4| chaves\n",
      "Processing Record 4 of Set 4| katsuura\n",
      "Processing Record 5 of Set 4| vilcun\n",
      "Processing Record 6 of Set 4| san angelo\n",
      "Processing Record 7 of Set 4| saint george\n",
      "Processing Record 8 of Set 4| hofn\n",
      "Processing Record 9 of Set 4| saint-augustin\n",
      "Processing Record 10 of Set 4| truth or consequences\n",
      "City not found. Skipping...\n",
      "Processing Record 12 of Set 4| xuddur\n",
      "Processing Record 13 of Set 4| takoradi\n",
      "Processing Record 14 of Set 4| khatanga\n",
      "Processing Record 15 of Set 4| caravelas\n",
      "City not found. Skipping...\n",
      "Processing Record 17 of Set 4| banswada\n",
      "Processing Record 18 of Set 4| beloha\n",
      "Processing Record 19 of Set 4| gweta\n",
      "Processing Record 20 of Set 4| kristiinankaupunki\n",
      "Processing Record 21 of Set 4| aldan\n",
      "City not found. Skipping...\n",
      "Processing Record 23 of Set 4| nouadhibou\n",
      "Processing Record 24 of Set 4| qaanaaq\n",
      "Processing Record 25 of Set 4| atambua\n",
      "Processing Record 26 of Set 4| ranau\n",
      "Processing Record 27 of Set 4| jamestown\n",
      "City not found. Skipping...\n",
      "Processing Record 29 of Set 4| mayor pablo lagerenza\n",
      "Processing Record 30 of Set 4| chokurdakh\n",
      "Processing Record 31 of Set 4| saldanha\n",
      "City not found. Skipping...\n",
      "Processing Record 33 of Set 4| nikolskoye\n",
      "Processing Record 34 of Set 4| tasiilaq\n",
      "Processing Record 35 of Set 4| merauke\n",
      "Processing Record 36 of Set 4| kaeo\n",
      "Processing Record 37 of Set 4| kalga\n",
      "Processing Record 38 of Set 4| lao cai\n",
      "Processing Record 39 of Set 4| port moresby\n",
      "Processing Record 40 of Set 4| manali\n",
      "Processing Record 41 of Set 4| ilulissat\n",
      "Processing Record 42 of Set 4| havoysund\n",
      "Processing Record 43 of Set 4| bathsheba\n",
      "Processing Record 44 of Set 4| klamath falls\n",
      "Processing Record 45 of Set 4| charters towers\n",
      "Processing Record 46 of Set 4| bandarbeyla\n",
      "Processing Record 47 of Set 4| mahebourg\n",
      "Processing Record 48 of Set 4| dzhebariki-khaya\n",
      "Processing Record 49 of Set 4| leningradskiy\n",
      "Processing Record 50 of Set 4| bethel\n",
      "City not found. Skipping...\n",
      "Processing Record 2 of Set 5| xuanhua\n",
      "Processing Record 3 of Set 5| humaita\n",
      "Processing Record 4 of Set 5| conner\n",
      "Processing Record 5 of Set 5| leeton\n",
      "Processing Record 6 of Set 5| fereydunshahr\n",
      "Processing Record 7 of Set 5| clearwater\n",
      "Processing Record 8 of Set 5| santiago\n",
      "Processing Record 9 of Set 5| upernavik\n",
      "Processing Record 10 of Set 5| vardo\n",
      "Processing Record 11 of Set 5| fortuna\n",
      "Processing Record 12 of Set 5| sao raimundo nonato\n"
     ]
    },
    {
     "name": "stdout",
     "output_type": "stream",
     "text": [
      "Processing Record 13 of Set 5| maniitsoq\n",
      "Processing Record 14 of Set 5| quelimane\n",
      "Processing Record 15 of Set 5| severo-kurilsk\n",
      "City not found. Skipping...\n",
      "Processing Record 17 of Set 5| mareeba\n",
      "Processing Record 18 of Set 5| port hardy\n",
      "Processing Record 19 of Set 5| nadym\n",
      "Processing Record 20 of Set 5| guerrero negro\n",
      "Processing Record 21 of Set 5| taree\n",
      "Processing Record 22 of Set 5| richards bay\n",
      "Processing Record 23 of Set 5| bredasdorp\n",
      "Processing Record 24 of Set 5| sao filipe\n",
      "Processing Record 25 of Set 5| gambela\n",
      "Processing Record 26 of Set 5| saint-pierre\n",
      "City not found. Skipping...\n",
      "Processing Record 28 of Set 5| butaritari\n",
      "Processing Record 29 of Set 5| puerto madero\n",
      "Processing Record 30 of Set 5| dehloran\n",
      "Processing Record 31 of Set 5| loandjili\n",
      "Processing Record 32 of Set 5| grindavik\n",
      "Processing Record 33 of Set 5| brawley\n",
      "Processing Record 34 of Set 5| tabas\n",
      "Processing Record 35 of Set 5| flin flon\n",
      "Processing Record 36 of Set 5| dunedin\n",
      "Processing Record 37 of Set 5| sayyan\n",
      "City not found. Skipping...\n",
      "Processing Record 39 of Set 5| otradnoye\n",
      "Processing Record 40 of Set 5| chuy\n",
      "Processing Record 41 of Set 5| mwense\n",
      "Processing Record 42 of Set 5| narsaq\n",
      "Processing Record 43 of Set 5| dauriya\n",
      "Processing Record 44 of Set 5| henties bay\n",
      "Processing Record 45 of Set 5| tuktoyaktuk\n",
      "Processing Record 46 of Set 5| torbay\n",
      "Processing Record 47 of Set 5| boden\n",
      "Processing Record 48 of Set 5| bambanglipuro\n",
      "Processing Record 49 of Set 5| launceston\n",
      "Processing Record 50 of Set 5| san patricio\n",
      "Processing Record 1 of Set 6| cayenne\n",
      "Processing Record 2 of Set 6| saint anthony\n",
      "Processing Record 3 of Set 6| nome\n",
      "Processing Record 4 of Set 6| oksfjord\n",
      "Processing Record 5 of Set 6| vila franca do campo\n",
      "City not found. Skipping...\n",
      "Processing Record 7 of Set 6| taiyuan\n",
      "City not found. Skipping...\n",
      "City not found. Skipping...\n",
      "Processing Record 10 of Set 6| hami\n",
      "Processing Record 11 of Set 6| margate\n",
      "Processing Record 12 of Set 6| sur\n",
      "Processing Record 13 of Set 6| astoria\n",
      "Processing Record 14 of Set 6| kargasok\n",
      "Processing Record 15 of Set 6| belaya gora\n",
      "Processing Record 16 of Set 6| azul\n",
      "Processing Record 17 of Set 6| ribeira grande\n",
      "Processing Record 18 of Set 6| arraial do cabo\n",
      "City not found. Skipping...\n",
      "Processing Record 20 of Set 6| binzhou\n",
      "Processing Record 21 of Set 6| port elizabeth\n",
      "City not found. Skipping...\n",
      "Processing Record 23 of Set 6| fereydun kenar\n",
      "Processing Record 24 of Set 6| olyka\n",
      "Processing Record 25 of Set 6| hay river\n",
      "Processing Record 26 of Set 6| lazo\n",
      "Processing Record 27 of Set 6| ginda\n",
      "Processing Record 28 of Set 6| jacareacanga\n",
      "Processing Record 29 of Set 6| zhigansk\n",
      "Processing Record 30 of Set 6| conceicao da barra\n",
      "Processing Record 31 of Set 6| itarema\n",
      "Processing Record 32 of Set 6| kasongo\n",
      "Processing Record 33 of Set 6| dicabisagan\n",
      "Processing Record 34 of Set 6| sisimiut\n",
      "Processing Record 35 of Set 6| mitsamiouli\n",
      "Processing Record 36 of Set 6| bud\n",
      "Processing Record 37 of Set 6| cap-aux-meules\n",
      "Processing Record 38 of Set 6| provideniya\n",
      "Processing Record 39 of Set 6| cabedelo\n",
      "Processing Record 40 of Set 6| altay\n",
      "Processing Record 41 of Set 6| quatre cocos\n",
      "Processing Record 42 of Set 6| beira\n",
      "Processing Record 43 of Set 6| marshalltown\n",
      "Processing Record 44 of Set 6| yarada\n",
      "Processing Record 45 of Set 6| pevek\n",
      "Processing Record 46 of Set 6| la ronge\n",
      "Processing Record 47 of Set 6| mizdah\n",
      "Processing Record 48 of Set 6| maningrida\n",
      "Processing Record 49 of Set 6| port-gentil\n",
      "Processing Record 50 of Set 6| pocola\n",
      "Processing Record 1 of Set 7| hun\n",
      "Processing Record 2 of Set 7| nizhniy kuranakh\n",
      "Processing Record 3 of Set 7| cobija\n",
      "Processing Record 4 of Set 7| beyneu\n",
      "Processing Record 5 of Set 7| kunming\n",
      "Processing Record 6 of Set 7| lompoc\n",
      "City not found. Skipping...\n",
      "Processing Record 8 of Set 7| hosakote\n",
      "Processing Record 9 of Set 7| buta\n",
      "Processing Record 10 of Set 7| isangel\n",
      "Processing Record 11 of Set 7| nenjiang\n",
      "Processing Record 12 of Set 7| ponta do sol\n",
      "City not found. Skipping...\n",
      "Processing Record 14 of Set 7| mogadishu\n",
      "Processing Record 15 of Set 7| tocopilla\n",
      "Processing Record 16 of Set 7| pirajui\n",
      "Processing Record 17 of Set 7| bardiyah\n",
      "Processing Record 18 of Set 7| hualmay\n",
      "Processing Record 19 of Set 7| ranong\n",
      "Processing Record 20 of Set 7| ardesen\n",
      "Processing Record 21 of Set 7| harstad\n",
      "Processing Record 22 of Set 7| jinchang\n",
      "Processing Record 23 of Set 7| ixtapa\n",
      "City not found. Skipping...\n",
      "Processing Record 25 of Set 7| poitiers\n",
      "Processing Record 26 of Set 7| corn island\n",
      "Processing Record 27 of Set 7| talnakh\n",
      "Processing Record 28 of Set 7| kalmunai\n",
      "Processing Record 29 of Set 7| tsiroanomandidy\n",
      "City not found. Skipping...\n",
      "City not found. Skipping...\n",
      "Processing Record 32 of Set 7| troitsko-pechorsk\n",
      "Processing Record 33 of Set 7| lucea\n",
      "City not found. Skipping...\n",
      "Processing Record 35 of Set 7| kaitangata\n",
      "Processing Record 36 of Set 7| egvekinot\n",
      "Processing Record 37 of Set 7| hobyo\n",
      "Processing Record 38 of Set 7| baherden\n",
      "Processing Record 39 of Set 7| mandalgovi\n",
      "City not found. Skipping...\n",
      "Processing Record 41 of Set 7| faya\n",
      "Processing Record 42 of Set 7| barcelona\n",
      "Processing Record 43 of Set 7| bafra\n",
      "Processing Record 44 of Set 7| aleksandrovsk-sakhalinskiy\n",
      "Processing Record 45 of Set 7| rohnert park\n",
      "Processing Record 46 of Set 7| the valley\n",
      "Processing Record 47 of Set 7| adrar\n",
      "City not found. Skipping...\n",
      "Processing Record 49 of Set 7| broome\n",
      "Processing Record 50 of Set 7| qasigiannguit\n",
      "Processing Record 1 of Set 8| russell\n",
      "Processing Record 2 of Set 8| energetik\n",
      "Processing Record 3 of Set 8| alice springs\n",
      "Processing Record 4 of Set 8| doha\n",
      "Processing Record 5 of Set 8| san quintin\n",
      "Processing Record 6 of Set 8| kavieng\n",
      "Processing Record 7 of Set 8| ewa beach\n",
      "Processing Record 8 of Set 8| dandong\n",
      "Processing Record 9 of Set 8| zavodskoy\n",
      "Processing Record 10 of Set 8| ekhabi\n",
      "Processing Record 11 of Set 8| iwanai\n",
      "Processing Record 12 of Set 8| floro\n",
      "Processing Record 13 of Set 8| westport\n",
      "Processing Record 14 of Set 8| lulea\n",
      "Processing Record 15 of Set 8| alyangula\n",
      "Processing Record 16 of Set 8| souillac\n",
      "Processing Record 17 of Set 8| freeport\n",
      "Processing Record 18 of Set 8| comodoro rivadavia\n",
      "Processing Record 19 of Set 8| la serena\n",
      "Processing Record 20 of Set 8| lasa\n",
      "Processing Record 21 of Set 8| faro\n",
      "Processing Record 22 of Set 8| huarmey\n",
      "Processing Record 23 of Set 8| anadyr\n",
      "Processing Record 24 of Set 8| mulanje\n",
      "Processing Record 25 of Set 8| aksu\n",
      "City not found. Skipping...\n",
      "Processing Record 27 of Set 8| nishihara\n",
      "Processing Record 28 of Set 8| mittagong\n",
      "Processing Record 29 of Set 8| ucluelet\n",
      "Processing Record 30 of Set 8| tateyama\n",
      "Processing Record 31 of Set 8| havelock\n",
      "Processing Record 32 of Set 8| semnan\n",
      "Processing Record 33 of Set 8| axim\n",
      "Processing Record 34 of Set 8| kissidougou\n",
      "Processing Record 35 of Set 8| siocon\n",
      "Processing Record 36 of Set 8| fairbanks\n",
      "City not found. Skipping...\n",
      "Processing Record 38 of Set 8| cockburn town\n",
      "Processing Record 39 of Set 8| buala\n",
      "Processing Record 40 of Set 8| kahuta\n",
      "Processing Record 41 of Set 8| kungurtug\n",
      "Processing Record 42 of Set 8| lincoln\n",
      "Processing Record 43 of Set 8| praia da vitoria\n",
      "Processing Record 44 of Set 8| bouna\n",
      "Processing Record 45 of Set 8| kodiak\n",
      "Processing Record 46 of Set 8| husavik\n",
      "City not found. Skipping...\n",
      "City not found. Skipping...\n",
      "Processing Record 49 of Set 8| kruisfontein\n",
      "Processing Record 50 of Set 8| taksimo\n",
      "Processing Record 1 of Set 9| palmas bellas\n",
      "Processing Record 2 of Set 9| padang\n",
      "Processing Record 3 of Set 9| san-pedro\n",
      "Processing Record 4 of Set 9| monte alegre\n",
      "Processing Record 5 of Set 9| aklavik\n",
      "Processing Record 6 of Set 9| port lincoln\n",
      "Processing Record 7 of Set 9| sterling\n",
      "Processing Record 8 of Set 9| wukari\n",
      "City not found. Skipping...\n",
      "Processing Record 10 of Set 9| torrox\n",
      "Processing Record 11 of Set 9| charlestown\n",
      "Processing Record 12 of Set 9| filingue\n",
      "Processing Record 13 of Set 9| port augusta\n",
      "Processing Record 14 of Set 9| cururupu\n",
      "City not found. Skipping...\n",
      "Processing Record 16 of Set 9| sao joao da barra\n",
      "Processing Record 17 of Set 9| palmas\n",
      "Processing Record 18 of Set 9| voloshka\n",
      "Processing Record 19 of Set 9| rapid valley\n",
      "Processing Record 20 of Set 9| beringovskiy\n",
      "Processing Record 21 of Set 9| bull savanna\n",
      "Processing Record 22 of Set 9| saint-leu\n"
     ]
    },
    {
     "name": "stdout",
     "output_type": "stream",
     "text": [
      "Processing Record 23 of Set 9| lahij\n",
      "Processing Record 24 of Set 9| srivardhan\n",
      "Processing Record 25 of Set 9| guangyuan\n",
      "Processing Record 26 of Set 9| iracoubo\n",
      "Processing Record 27 of Set 9| camana\n",
      "Processing Record 28 of Set 9| ayia galini\n",
      "Processing Record 29 of Set 9| natitingou\n",
      "Processing Record 30 of Set 9| sambava\n",
      "Processing Record 31 of Set 9| chimoio\n",
      "Processing Record 32 of Set 9| maxixe\n",
      "Processing Record 33 of Set 9| ouango\n",
      "Processing Record 34 of Set 9| vila velha\n",
      "Processing Record 35 of Set 9| nuuk\n",
      "Processing Record 36 of Set 9| pryazha\n",
      "Processing Record 37 of Set 9| aconibe\n",
      "Processing Record 38 of Set 9| marsaxlokk\n",
      "Processing Record 39 of Set 9| sri aman\n",
      "Processing Record 40 of Set 9| ratnagiri\n",
      "Processing Record 41 of Set 9| argentan\n",
      "Processing Record 42 of Set 9| mbuji-mayi\n",
      "Processing Record 43 of Set 9| wencheng\n",
      "Processing Record 44 of Set 9| karratha\n",
      "Processing Record 45 of Set 9| sept-iles\n",
      "Processing Record 46 of Set 9| novyy urengoy\n",
      "Processing Record 47 of Set 9| saint andrews\n",
      "Processing Record 48 of Set 9| shenkursk\n",
      "Processing Record 49 of Set 9| skjervoy\n",
      "Processing Record 50 of Set 9| puerto leguizamo\n",
      "Processing Record 1 of Set 10| klaksvik\n",
      "Processing Record 2 of Set 10| odweyne\n",
      "Processing Record 3 of Set 10| tautira\n",
      "Processing Record 4 of Set 10| samarai\n",
      "Processing Record 5 of Set 10| ambilobe\n",
      "Processing Record 6 of Set 10| kirkenes\n",
      "City not found. Skipping...\n",
      "City not found. Skipping...\n",
      "Processing Record 9 of Set 10| tallahassee\n",
      "Processing Record 10 of Set 10| walvis bay\n",
      "Processing Record 11 of Set 10| port blair\n",
      "Processing Record 12 of Set 10| petropavlovsk-kamchatskiy\n",
      "Processing Record 13 of Set 10| nongan\n",
      "Processing Record 14 of Set 10| carballo\n",
      "Processing Record 15 of Set 10| laguna\n",
      "Processing Record 16 of Set 10| sinnamary\n",
      "Processing Record 17 of Set 10| jangaon\n",
      "Processing Record 18 of Set 10| samfya\n",
      "City not found. Skipping...\n",
      "Processing Record 20 of Set 10| rio gallegos\n",
      "Processing Record 21 of Set 10| usinsk\n",
      "Processing Record 22 of Set 10| avera\n",
      "Processing Record 23 of Set 10| myaundzha\n",
      "Processing Record 24 of Set 10| kysyl-syr\n",
      "Processing Record 25 of Set 10| rehoboth\n",
      "Processing Record 26 of Set 10| ericeira\n",
      "Processing Record 27 of Set 10| marquette\n",
      "Processing Record 28 of Set 10| kita\n",
      "Processing Record 29 of Set 10| riyadh\n",
      "Processing Record 30 of Set 10| lagoa\n",
      "Processing Record 31 of Set 10| basoko\n",
      "Processing Record 32 of Set 10| solnechnyy\n",
      "Processing Record 33 of Set 10| jumla\n",
      "Processing Record 34 of Set 10| vanimo\n",
      "Processing Record 35 of Set 10| yumen\n",
      "Processing Record 36 of Set 10| la plata\n",
      "Processing Record 37 of Set 10| palmer\n",
      "Processing Record 38 of Set 10| ankang\n",
      "Processing Record 39 of Set 10| porto empedocle\n",
      "Processing Record 40 of Set 10| shellbrook\n",
      "Processing Record 41 of Set 10| udachnyy\n",
      "Processing Record 42 of Set 10| mount gambier\n",
      "Processing Record 43 of Set 10| araxa\n",
      "Processing Record 44 of Set 10| hafizabad\n",
      "Processing Record 45 of Set 10| borba\n",
      "Processing Record 46 of Set 10| pedernales\n",
      "Processing Record 47 of Set 10| hargeysa\n",
      "Processing Record 48 of Set 10| badajoz\n",
      "Processing Record 49 of Set 10| eregli\n",
      "Processing Record 50 of Set 10| cartagena del chaira\n",
      "Processing Record 1 of Set 11| tingo maria\n",
      "City not found. Skipping...\n",
      "Processing Record 3 of Set 11| ugoofaaru\n",
      "Processing Record 4 of Set 11| aykhal\n",
      "Processing Record 5 of Set 11| parker\n",
      "Processing Record 6 of Set 11| cootamundra\n",
      "Processing Record 7 of Set 11| mananara\n",
      "Processing Record 8 of Set 11| muisne\n",
      "Processing Record 9 of Set 11| batticaloa\n",
      "Processing Record 10 of Set 11| kamenka\n",
      "Processing Record 11 of Set 11| sawakin\n",
      "Processing Record 12 of Set 11| patitirion\n",
      "Processing Record 13 of Set 11| ketchikan\n",
      "Processing Record 14 of Set 11| anamur\n",
      "Processing Record 15 of Set 11| voh\n",
      "Processing Record 16 of Set 11| santa maria da vitoria\n",
      "Processing Record 17 of Set 11| chibuto\n",
      "Processing Record 18 of Set 11| mawlaik\n",
      "Processing Record 19 of Set 11| folldal\n",
      "Processing Record 20 of Set 11| esperance\n",
      "Processing Record 21 of Set 11| seevetal\n",
      "Processing Record 22 of Set 11| iqaluit\n",
      "Processing Record 23 of Set 11| muromtsevo\n",
      "Processing Record 24 of Set 11| green river\n",
      "Processing Record 25 of Set 11| rio grande\n",
      "Processing Record 26 of Set 11| eureka\n",
      "Processing Record 27 of Set 11| tarangnan\n",
      "Processing Record 28 of Set 11| la palma\n",
      "Processing Record 29 of Set 11| lagunas\n",
      "Processing Record 30 of Set 11| xining\n",
      "Processing Record 31 of Set 11| altagracia de orituco\n",
      "City not found. Skipping...\n",
      "Processing Record 33 of Set 11| esil\n",
      "Processing Record 34 of Set 11| zhanaozen\n",
      "Processing Record 35 of Set 11| xucheng\n",
      "Processing Record 36 of Set 11| cherskiy\n",
      "Processing Record 37 of Set 11| desaguadero\n",
      "Processing Record 38 of Set 11| esmeraldas\n",
      "Processing Record 39 of Set 11| susanville\n",
      "Processing Record 40 of Set 11| pemba\n",
      "Processing Record 41 of Set 11| colares\n",
      "Processing Record 42 of Set 11| izamal\n",
      "Processing Record 43 of Set 11| rodrigues alves\n",
      "Processing Record 44 of Set 11| strezhevoy\n",
      "Processing Record 45 of Set 11| mengyin\n",
      "Processing Record 46 of Set 11| coahuayana\n",
      "City not found. Skipping...\n",
      "Processing Record 48 of Set 11| katy\n",
      "Processing Record 49 of Set 11| aksarka\n",
      "City not found. Skipping...\n",
      "Processing Record 1 of Set 12| taoudenni\n",
      "Processing Record 2 of Set 12| rosarito\n",
      "Processing Record 3 of Set 12| lavrentiya\n",
      "Processing Record 4 of Set 12| thinadhoo\n",
      "Processing Record 5 of Set 12| haines junction\n",
      "Processing Record 6 of Set 12| westerland\n",
      "Processing Record 7 of Set 12| kannangad\n",
      "City not found. Skipping...\n",
      "Processing Record 9 of Set 12| arandis\n",
      "Processing Record 10 of Set 12| lumding\n",
      "Processing Record 11 of Set 12| yomou\n",
      "Processing Record 12 of Set 12| jiuquan\n",
      "Processing Record 13 of Set 12| weihai\n",
      "Processing Record 14 of Set 12| pisco\n",
      "Processing Record 15 of Set 12| livingstone\n",
      "Processing Record 16 of Set 12| kirakira\n",
      "Processing Record 17 of Set 12| dryden\n",
      "Processing Record 18 of Set 12| jizan\n",
      "Processing Record 19 of Set 12| san ignacio\n",
      "Processing Record 20 of Set 12| shache\n",
      "City not found. Skipping...\n",
      "Processing Record 22 of Set 12| mayo\n",
      "Processing Record 23 of Set 12| guerrero\n",
      "Processing Record 24 of Set 12| pierre\n",
      "Processing Record 25 of Set 12| sorland\n",
      "Processing Record 26 of Set 12| mackenzie\n",
      "Processing Record 27 of Set 12| vila\n",
      "Processing Record 28 of Set 12| srednekolymsk\n",
      "Processing Record 29 of Set 12| ahipara\n",
      "Processing Record 30 of Set 12| catumbela\n",
      "Processing Record 31 of Set 12| xihe\n",
      "Processing Record 32 of Set 12| mogok\n",
      "City not found. Skipping...\n",
      "Processing Record 34 of Set 12| santiago del estero\n",
      "Processing Record 35 of Set 12| coihaique\n",
      "Processing Record 36 of Set 12| yar-sale\n",
      "Processing Record 37 of Set 12| bannu\n",
      "Processing Record 38 of Set 12| erzin\n",
      "Processing Record 39 of Set 12| mendoza\n",
      "City not found. Skipping...\n",
      "Processing Record 41 of Set 12| presidencia roque saenz pena\n",
      "Processing Record 42 of Set 12| guanica\n",
      "Processing Record 43 of Set 12| tortoli\n",
      "Processing Record 44 of Set 12| homer\n",
      "Processing Record 45 of Set 12| yerbogachen\n",
      "City not found. Skipping...\n",
      "Processing Record 47 of Set 12| belaya kholunitsa\n",
      "Processing Record 48 of Set 12| iranshahr\n",
      "Processing Record 49 of Set 12| estelle\n",
      "City not found. Skipping...\n",
      "Processing Record 1 of Set 13| uromi\n",
      "Processing Record 2 of Set 13| hovd\n",
      "Processing Record 3 of Set 13| bodden town\n",
      "Processing Record 4 of Set 13| sioux lookout\n",
      "Processing Record 5 of Set 13| sistranda\n",
      "Processing Record 6 of Set 13| olot\n",
      "Processing Record 7 of Set 13| jalu\n",
      "Processing Record 8 of Set 13| alofi\n",
      "City not found. Skipping...\n",
      "Processing Record 10 of Set 13| channel-port aux basques\n",
      "Processing Record 11 of Set 13| tianpeng\n",
      "Processing Record 12 of Set 13| pedasi\n",
      "Processing Record 13 of Set 13| muravlenko\n",
      "Processing Record 14 of Set 13| valkla\n",
      "Processing Record 15 of Set 13| poya\n",
      "City not found. Skipping...\n",
      "Processing Record 17 of Set 13| praia\n",
      "Processing Record 18 of Set 13| necochea\n",
      "City not found. Skipping...\n",
      "Processing Record 20 of Set 13| komsomolskiy\n",
      "City not found. Skipping...\n",
      "City not found. Skipping...\n",
      "Processing Record 23 of Set 13| bairiki\n",
      "Processing Record 24 of Set 13| luis gil perez\n",
      "Processing Record 25 of Set 13| liverpool\n",
      "Processing Record 26 of Set 13| labuan\n",
      "Processing Record 27 of Set 13| santa isabel do rio negro\n"
     ]
    },
    {
     "name": "stdout",
     "output_type": "stream",
     "text": [
      "Processing Record 28 of Set 13| manggar\n",
      "Processing Record 29 of Set 13| san luis obispo\n",
      "Processing Record 30 of Set 13| hamilton\n",
      "Processing Record 31 of Set 13| umm lajj\n",
      "Processing Record 32 of Set 13| kangaatsiaq\n",
      "Processing Record 33 of Set 13| meulaboh\n",
      "Processing Record 34 of Set 13| kampot\n",
      "Processing Record 35 of Set 13| upington\n",
      "Processing Record 36 of Set 13| krasnoselkup\n",
      "Processing Record 37 of Set 13| fort nelson\n",
      "City not found. Skipping...\n",
      "Processing Record 39 of Set 13| barranca\n",
      "City not found. Skipping...\n",
      "Processing Record 41 of Set 13| upata\n",
      "Processing Record 42 of Set 13| itoman\n",
      "Processing Record 43 of Set 13| labuhan\n",
      "Processing Record 44 of Set 13| svetlaya\n",
      "Processing Record 45 of Set 13| seoul\n",
      "Processing Record 46 of Set 13| sleaford\n"
     ]
    }
   ],
   "source": [
    "# Save config information.\n",
    "url = \"http://api.openweathermap.org/data/2.5/weather?\"\n",
    "units = \"imperial\"\n",
    "num = 1\n",
    "sets = 1\n",
    "\n",
    "found_cities = []\n",
    "cloudiness = []\n",
    "countries = []\n",
    "dates = []\n",
    "humidity = []\n",
    "lat = []\n",
    "lng = []\n",
    "max_temp = []\n",
    "wind_speed = []\n",
    "\n",
    "#weather_dict = {}\n",
    "\n",
    "# Build partial query URL\n",
    "query_url = f\"{url}appid={weather_api_key}&units={units}&q=\"\n",
    "\n",
    "# Loop through the list of cities and perform a request for data on each\n",
    "for city in cities:    \n",
    "    try:\n",
    "        response = requests.get(query_url + city).json()\n",
    "\n",
    "        countries.append(response[\"sys\"][\"country\"])\n",
    "        cloudiness.append(response[\"clouds\"][\"all\"])\n",
    "        dates.append(response[\"dt\"])\n",
    "        humidity.append(response[\"main\"][\"humidity\"])\n",
    "        lat.append(response[\"coord\"][\"lat\"])\n",
    "        lng.append(response[\"coord\"][\"lon\"])\n",
    "        max_temp.append(response[\"main\"][\"temp_max\"])\n",
    "        wind_speed.append(response[\"wind\"][\"speed\"])\n",
    "        found_cities.append(city)\n",
    "\n",
    "\n",
    "        print(f\"Processing Record {num} of Set {sets}| {city}\")\n",
    "    except Exception:\n",
    "        print(\"City not found. Skipping...\")\n",
    "\n",
    "    if num ==50:\n",
    "        sets+=1\n",
    "        num =0\n",
    "    num += 1\n"
   ]
  },
  {
   "cell_type": "code",
   "execution_count": 6,
   "metadata": {},
   "outputs": [],
   "source": [
    "weather_dict = {\"City\": found_cities,\n",
    "            \"Cloudiness\": cloudiness,\n",
    "            \"Country\": countries,\n",
    "            \"Date\" : dates,\n",
    "            \"Humidity\" : humidity,\n",
    "            \"Lat\" : lat,\n",
    "            \"Lng\" : lng,\n",
    "            \"Max Temp\" : max_temp,\n",
    "            \"Wind Speed\" : wind_speed}"
   ]
  },
  {
   "cell_type": "markdown",
   "metadata": {},
   "source": [
    "### Convert Raw Data to DataFrame\n",
    "* Export the city data into a .csv.\n",
    "* Display the DataFrame"
   ]
  },
  {
   "cell_type": "code",
   "execution_count": 32,
   "metadata": {},
   "outputs": [],
   "source": [
    "weather_data = pd.DataFrame(weather_dict)\n",
    "weather_data.to_csv (output_data_file, index = False, header=True)"
   ]
  },
  {
   "cell_type": "code",
   "execution_count": null,
   "metadata": {},
   "outputs": [],
   "source": []
  },
  {
   "cell_type": "code",
   "execution_count": 8,
   "metadata": {},
   "outputs": [
    {
     "data": {
      "text/plain": [
       "City          582\n",
       "Cloudiness    582\n",
       "Country       582\n",
       "Date          582\n",
       "Humidity      582\n",
       "Lat           582\n",
       "Lng           582\n",
       "Max Temp      582\n",
       "Wind Speed    582\n",
       "dtype: int64"
      ]
     },
     "execution_count": 8,
     "metadata": {},
     "output_type": "execute_result"
    }
   ],
   "source": [
    "weather_data.count()"
   ]
  },
  {
   "cell_type": "code",
   "execution_count": 9,
   "metadata": {},
   "outputs": [
    {
     "data": {
      "text/html": [
       "<div>\n",
       "<style scoped>\n",
       "    .dataframe tbody tr th:only-of-type {\n",
       "        vertical-align: middle;\n",
       "    }\n",
       "\n",
       "    .dataframe tbody tr th {\n",
       "        vertical-align: top;\n",
       "    }\n",
       "\n",
       "    .dataframe thead th {\n",
       "        text-align: right;\n",
       "    }\n",
       "</style>\n",
       "<table border=\"1\" class=\"dataframe\">\n",
       "  <thead>\n",
       "    <tr style=\"text-align: right;\">\n",
       "      <th></th>\n",
       "      <th>City</th>\n",
       "      <th>Cloudiness</th>\n",
       "      <th>Country</th>\n",
       "      <th>Date</th>\n",
       "      <th>Humidity</th>\n",
       "      <th>Lat</th>\n",
       "      <th>Lng</th>\n",
       "      <th>Max Temp</th>\n",
       "      <th>Wind Speed</th>\n",
       "    </tr>\n",
       "  </thead>\n",
       "  <tbody>\n",
       "    <tr>\n",
       "      <td>0</td>\n",
       "      <td>kapaa</td>\n",
       "      <td>90</td>\n",
       "      <td>US</td>\n",
       "      <td>1584407979</td>\n",
       "      <td>94</td>\n",
       "      <td>22.08</td>\n",
       "      <td>-159.32</td>\n",
       "      <td>73.40</td>\n",
       "      <td>12.75</td>\n",
       "    </tr>\n",
       "    <tr>\n",
       "      <td>1</td>\n",
       "      <td>crotone</td>\n",
       "      <td>0</td>\n",
       "      <td>IT</td>\n",
       "      <td>1584408293</td>\n",
       "      <td>66</td>\n",
       "      <td>39.09</td>\n",
       "      <td>17.12</td>\n",
       "      <td>49.05</td>\n",
       "      <td>3.71</td>\n",
       "    </tr>\n",
       "    <tr>\n",
       "      <td>2</td>\n",
       "      <td>tiksi</td>\n",
       "      <td>100</td>\n",
       "      <td>RU</td>\n",
       "      <td>1584408293</td>\n",
       "      <td>97</td>\n",
       "      <td>71.69</td>\n",
       "      <td>128.87</td>\n",
       "      <td>-2.81</td>\n",
       "      <td>4.59</td>\n",
       "    </tr>\n",
       "    <tr>\n",
       "      <td>3</td>\n",
       "      <td>kingman</td>\n",
       "      <td>1</td>\n",
       "      <td>US</td>\n",
       "      <td>1584408293</td>\n",
       "      <td>35</td>\n",
       "      <td>35.19</td>\n",
       "      <td>-114.05</td>\n",
       "      <td>73.00</td>\n",
       "      <td>21.92</td>\n",
       "    </tr>\n",
       "    <tr>\n",
       "      <td>4</td>\n",
       "      <td>avarua</td>\n",
       "      <td>100</td>\n",
       "      <td>CK</td>\n",
       "      <td>1584407815</td>\n",
       "      <td>88</td>\n",
       "      <td>-21.21</td>\n",
       "      <td>-159.78</td>\n",
       "      <td>80.60</td>\n",
       "      <td>17.22</td>\n",
       "    </tr>\n",
       "    <tr>\n",
       "      <td>...</td>\n",
       "      <td>...</td>\n",
       "      <td>...</td>\n",
       "      <td>...</td>\n",
       "      <td>...</td>\n",
       "      <td>...</td>\n",
       "      <td>...</td>\n",
       "      <td>...</td>\n",
       "      <td>...</td>\n",
       "      <td>...</td>\n",
       "    </tr>\n",
       "    <tr>\n",
       "      <td>577</td>\n",
       "      <td>itoman</td>\n",
       "      <td>20</td>\n",
       "      <td>JP</td>\n",
       "      <td>1584408005</td>\n",
       "      <td>55</td>\n",
       "      <td>26.12</td>\n",
       "      <td>127.67</td>\n",
       "      <td>64.40</td>\n",
       "      <td>3.36</td>\n",
       "    </tr>\n",
       "    <tr>\n",
       "      <td>578</td>\n",
       "      <td>labuhan</td>\n",
       "      <td>52</td>\n",
       "      <td>ID</td>\n",
       "      <td>1584408389</td>\n",
       "      <td>86</td>\n",
       "      <td>-6.88</td>\n",
       "      <td>112.21</td>\n",
       "      <td>78.08</td>\n",
       "      <td>2.04</td>\n",
       "    </tr>\n",
       "    <tr>\n",
       "      <td>579</td>\n",
       "      <td>svetlaya</td>\n",
       "      <td>50</td>\n",
       "      <td>RU</td>\n",
       "      <td>1584408008</td>\n",
       "      <td>62</td>\n",
       "      <td>46.54</td>\n",
       "      <td>138.33</td>\n",
       "      <td>27.30</td>\n",
       "      <td>14.43</td>\n",
       "    </tr>\n",
       "    <tr>\n",
       "      <td>580</td>\n",
       "      <td>seoul</td>\n",
       "      <td>90</td>\n",
       "      <td>KR</td>\n",
       "      <td>1584408228</td>\n",
       "      <td>81</td>\n",
       "      <td>37.57</td>\n",
       "      <td>126.98</td>\n",
       "      <td>44.60</td>\n",
       "      <td>6.93</td>\n",
       "    </tr>\n",
       "    <tr>\n",
       "      <td>581</td>\n",
       "      <td>sleaford</td>\n",
       "      <td>88</td>\n",
       "      <td>GB</td>\n",
       "      <td>1584408390</td>\n",
       "      <td>75</td>\n",
       "      <td>53.00</td>\n",
       "      <td>-0.41</td>\n",
       "      <td>46.40</td>\n",
       "      <td>20.80</td>\n",
       "    </tr>\n",
       "  </tbody>\n",
       "</table>\n",
       "<p>582 rows × 9 columns</p>\n",
       "</div>"
      ],
      "text/plain": [
       "         City  Cloudiness Country        Date  Humidity    Lat     Lng  \\\n",
       "0       kapaa          90      US  1584407979        94  22.08 -159.32   \n",
       "1     crotone           0      IT  1584408293        66  39.09   17.12   \n",
       "2       tiksi         100      RU  1584408293        97  71.69  128.87   \n",
       "3     kingman           1      US  1584408293        35  35.19 -114.05   \n",
       "4      avarua         100      CK  1584407815        88 -21.21 -159.78   \n",
       "..        ...         ...     ...         ...       ...    ...     ...   \n",
       "577    itoman          20      JP  1584408005        55  26.12  127.67   \n",
       "578   labuhan          52      ID  1584408389        86  -6.88  112.21   \n",
       "579  svetlaya          50      RU  1584408008        62  46.54  138.33   \n",
       "580     seoul          90      KR  1584408228        81  37.57  126.98   \n",
       "581  sleaford          88      GB  1584408390        75  53.00   -0.41   \n",
       "\n",
       "     Max Temp  Wind Speed  \n",
       "0       73.40       12.75  \n",
       "1       49.05        3.71  \n",
       "2       -2.81        4.59  \n",
       "3       73.00       21.92  \n",
       "4       80.60       17.22  \n",
       "..        ...         ...  \n",
       "577     64.40        3.36  \n",
       "578     78.08        2.04  \n",
       "579     27.30       14.43  \n",
       "580     44.60        6.93  \n",
       "581     46.40       20.80  \n",
       "\n",
       "[582 rows x 9 columns]"
      ]
     },
     "execution_count": 9,
     "metadata": {},
     "output_type": "execute_result"
    }
   ],
   "source": [
    "weather_data"
   ]
  },
  {
   "cell_type": "markdown",
   "metadata": {},
   "source": [
    "### Plotting the Data\n",
    "* Use proper labeling of the plots using plot titles (including date of analysis) and axes labels.\n",
    "* Save the plotted figures as .pngs."
   ]
  },
  {
   "cell_type": "markdown",
   "metadata": {},
   "source": [
    "\n"
   ]
  },
  {
   "cell_type": "markdown",
   "metadata": {},
   "source": [
    "#### Latitude vs. Temperature Plot"
   ]
  },
  {
   "cell_type": "code",
   "execution_count": 10,
   "metadata": {},
   "outputs": [
    {
     "data": {
      "image/png": "[encoded data removed]",
      "text/plain": [
       "<Figure size 432x288 with 1 Axes>"
      ]
     },
     "metadata": {
      "needs_background": "light"
     },
     "output_type": "display_data"
    },
    {
     "data": {
      "text/plain": [
       "<Figure size 432x288 with 0 Axes>"
      ]
     },
     "metadata": {},
     "output_type": "display_data"
    }
   ],
   "source": [
    "weather_data.plot.scatter(x='Lat',\n",
    "                      y='Max Temp')\n",
    "plt.scatter(weather_data[\"Lat\"],weather_data[\"Max Temp\"])\n",
    "plt.xlabel('Latitude')\n",
    "plt.ylabel('Max Temperature (F)')\n",
    "plt.title(\"City Latitude vs. Max Temperature (03/10/2020)\")\n",
    "plt.grid()\n",
    "\n",
    "plt.show()\n",
    "plt.savefig('../output_data/Lat_Max_Temp.png') "
   ]
  },
  {
   "cell_type": "code",
   "execution_count": 11,
   "metadata": {},
   "outputs": [],
   "source": [
    "#The tempatures are increasing the closer they are to the 0 Lat line, \n",
    "#with a more intense drop in tempature when the Lat increases."
   ]
  },
  {
   "cell_type": "markdown",
   "metadata": {},
   "source": [
    "#### Latitude vs. Humidity Plot"
   ]
  },
  {
   "cell_type": "code",
   "execution_count": 12,
   "metadata": {},
   "outputs": [
    {
     "data": {
      "image/png": "[encoded data removed]",
      "text/plain": [
       "<Figure size 432x288 with 1 Axes>"
      ]
     },
     "metadata": {
      "needs_background": "light"
     },
     "output_type": "display_data"
    }
   ],
   "source": [
    "ax2 = weather_data.plot.scatter(x='Lat',\n",
    "                      y='Humidity')\n",
    "plt.scatter(weather_data[\"Lat\"],weather_data[\"Humidity\"])\n",
    "plt.xlabel('Latitude')\n",
    "plt.ylabel('Humidity (%)')\n",
    "plt.title(\"City Latitude vs. Humidity (03/10/2020)\")\n",
    "plt.grid()\n",
    "plt.savefig('../output_data/Lat_Humidity.png')\n",
    "plt.show()"
   ]
  },
  {
   "cell_type": "code",
   "execution_count": 13,
   "metadata": {},
   "outputs": [],
   "source": [
    "#Humidity is showing to be more consistant while showing more cities with high humidity at 0 Lat, \n",
    "#while others other have cities in high humidty they are more spread out as well."
   ]
  },
  {
   "cell_type": "markdown",
   "metadata": {},
   "source": [
    "#### Latitude vs. Cloudiness Plot"
   ]
  },
  {
   "cell_type": "code",
   "execution_count": 14,
   "metadata": {},
   "outputs": [
    {
     "data": {
      "image/png": "[encoded data removed]",
      "text/plain": [
       "<Figure size 432x288 with 1 Axes>"
      ]
     },
     "metadata": {
      "needs_background": "light"
     },
     "output_type": "display_data"
    }
   ],
   "source": [
    "ax3 = weather_data.plot.scatter(x='Lat',\n",
    "                      y='Cloudiness')\n",
    "plt.scatter(weather_data[\"Lat\"],weather_data[\"Cloudiness\"])\n",
    "plt.xlabel('Latitude')\n",
    "plt.ylabel('Cloudiness (%)')\n",
    "plt.title(\"City Latitude vs. Cloudiness (03/10/2020)\")\n",
    "plt.grid()\n",
    "plt.savefig('../output_data/Lat_Cloudiness.png')\n",
    "plt.show()"
   ]
  },
  {
   "cell_type": "code",
   "execution_count": 15,
   "metadata": {},
   "outputs": [],
   "source": [
    "#Cloudiness is showing to be more diverse across all the Latitudes. \n",
    "#Slight increase in cloudiness as it gets further from the 0 Lat."
   ]
  },
  {
   "cell_type": "markdown",
   "metadata": {
    "scrolled": true
   },
   "source": [
    "#### Latitude vs. Wind Speed Plot"
   ]
  },
  {
   "cell_type": "code",
   "execution_count": 16,
   "metadata": {},
   "outputs": [
    {
     "data": {
      "image/png": "[encoded data removed]",
      "text/plain": [
       "<Figure size 432x288 with 1 Axes>"
      ]
     },
     "metadata": {
      "needs_background": "light"
     },
     "output_type": "display_data"
    }
   ],
   "source": [
    "ax4 = weather_data.plot.scatter(x='Lat',\n",
    "                      y='Wind Speed')\n",
    "plt.scatter(weather_data[\"Lat\"],weather_data[\"Wind Speed\"])\n",
    "plt.xlabel('Latitude')\n",
    "plt.ylabel('Wind Speed (mph)')\n",
    "plt.title(\"City Latitude vs. Wind Speed (03/10/2020)\")\n",
    "plt.grid()\n",
    "plt.savefig('../output_data/Lat_Wind.png')\n",
    "plt.show()"
   ]
  },
  {
   "cell_type": "code",
   "execution_count": 17,
   "metadata": {},
   "outputs": [],
   "source": [
    "#Wind speeds are showing to be more consistently slower closer to the 0 Lat."
   ]
  },
  {
   "cell_type": "markdown",
   "metadata": {},
   "source": [
    "## Linear Regression"
   ]
  },
  {
   "cell_type": "code",
   "execution_count": 18,
   "metadata": {},
   "outputs": [],
   "source": [
    "# OPTIONAL: Create a function to create Linear Regression plots\n",
    "def regression (x_values, y_values):\n",
    "    (slope, intercept, rvalue, pvalue, stderr) = linregress(x_values, y_values)\n",
    "    regress_values = x_values * slope + intercept\n",
    "    line_eq = \"y = \" + str(round(slope,2)) + \"x + \" + str(round(intercept,2))\n",
    "    return (line_eq, rvalue, regress_values)"
   ]
  },
  {
   "cell_type": "code",
   "execution_count": 19,
   "metadata": {},
   "outputs": [],
   "source": [
    "# Create Northern and Southern Hemisphere DataFrames\n",
    "\n",
    "#Northern Hemisphere (greater than or equal to 0 degrees latitude) \n",
    "northern = weather_data.loc[(weather_data[\"Lat\"]>=0)]\n",
    "\n",
    "#Southern Hemisphere (less than 0 degrees latitude)\n",
    "southern= weather_data.loc[(weather_data[\"Lat\"]<0)]"
   ]
  },
  {
   "cell_type": "markdown",
   "metadata": {},
   "source": [
    "####  Northern Hemisphere - Max Temp vs. Latitude Linear Regression"
   ]
  },
  {
   "cell_type": "code",
   "execution_count": 20,
   "metadata": {},
   "outputs": [
    {
     "name": "stdout",
     "output_type": "stream",
     "text": [
      "The r-squared is: -0.8958415837141164\n"
     ]
    },
    {
     "data": {
      "image/png": "[encoded data removed]",
      "text/plain": [
       "<Figure size 432x288 with 1 Axes>"
      ]
     },
     "metadata": {
      "needs_background": "light"
     },
     "output_type": "display_data"
    }
   ],
   "source": [
    "northern.plot.scatter(x='Lat',\n",
    "                      y='Max Temp')\n",
    "plt.scatter(northern[\"Lat\"],northern[\"Max Temp\"])\n",
    "plt.xlabel('Latitude')\n",
    "plt.ylabel('Max Temp (F))')\n",
    "plt.title(\"City Latitude vs. Max Temp (03/10/2020)\")\n",
    "reg = regression(northern[\"Lat\"],northern[\"Max Temp\"])\n",
    "line_eq = reg[0]\n",
    "rvalue = reg[1]\n",
    "regress_values = reg[2]\n",
    "plt.plot(northern[\"Lat\"],regress_values,\"r-\")\n",
    "plt.annotate(line_eq,(6,10),fontsize=15,color=\"red\")\n",
    "print(f\"The r-squared is: {rvalue}\")\n",
    "plt.savefig('../output_data/northern_maxtemp_Lat_LinRegress.png')\n",
    "plt.show()"
   ]
  },
  {
   "cell_type": "markdown",
   "metadata": {},
   "source": [
    "####  Southern Hemisphere - Max Temp vs. Latitude Linear Regression"
   ]
  },
  {
   "cell_type": "code",
   "execution_count": 21,
   "metadata": {},
   "outputs": [
    {
     "name": "stdout",
     "output_type": "stream",
     "text": [
      "The r-squared is: 0.6150481294034488\n"
     ]
    },
    {
     "data": {
      "image/png": "[encoded data removed]",
      "text/plain": [
       "<Figure size 432x288 with 1 Axes>"
      ]
     },
     "metadata": {
      "needs_background": "light"
     },
     "output_type": "display_data"
    }
   ],
   "source": [
    "southern.plot.scatter(x='Lat',\n",
    "                      y='Max Temp')\n",
    "plt.scatter(southern[\"Lat\"],southern[\"Max Temp\"])\n",
    "plt.xlabel('Latitude')\n",
    "plt.ylabel('Max Temp (F))')\n",
    "plt.title(\"City Latitude vs. Max Temp (03/10/2020)\")\n",
    "reg = regression(southern[\"Lat\"],southern[\"Max Temp\"])\n",
    "line_eq = reg[0]\n",
    "rvalue = reg[1]\n",
    "regress_values = reg[2]\n",
    "plt.plot(southern[\"Lat\"],regress_values,\"r-\")\n",
    "plt.annotate(line_eq,(-40,50),fontsize=15,color=\"red\")\n",
    "print(f\"The r-squared is: {rvalue}\")\n",
    "plt.savefig('../output_data/southern_maxtemp_Lat_LinRegress.png')\n",
    "plt.show()"
   ]
  },
  {
   "cell_type": "code",
   "execution_count": 22,
   "metadata": {},
   "outputs": [],
   "source": [
    "#Northern Hemisphere is showing a strong inverse coorelation to Lat and Max Temp. \n",
    "#Showing the further away from 0 Lat the warmer the Max Temp is.\n",
    "\n",
    "#Souther Hemisphere is showing a less strong correlation than the northern hemisphere, \n",
    "#but does show at a slower rate that the max temp decreases when moving south of 0 Lat."
   ]
  },
  {
   "cell_type": "markdown",
   "metadata": {},
   "source": [
    "####  Northern Hemisphere - Humidity (%) vs. Latitude Linear Regression"
   ]
  },
  {
   "cell_type": "code",
   "execution_count": 23,
   "metadata": {},
   "outputs": [
    {
     "name": "stdout",
     "output_type": "stream",
     "text": [
      "The r-squared is: 0.1631150899600754\n"
     ]
    },
    {
     "data": {
      "image/png": "[encoded data removed]",
      "text/plain": [
       "<Figure size 432x288 with 1 Axes>"
      ]
     },
     "metadata": {
      "needs_background": "light"
     },
     "output_type": "display_data"
    }
   ],
   "source": [
    "northern.plot.scatter(x='Lat',\n",
    "                      y='Humidity')\n",
    "plt.scatter(northern[\"Lat\"],northern[\"Humidity\"])\n",
    "plt.xlabel('Latitude')\n",
    "plt.ylabel('Humidity (%)')\n",
    "plt.title(\"City Latitude vs. Humidity (03/10/2020)\")\n",
    "reg = regression(northern[\"Lat\"],northern[\"Humidity\"])\n",
    "line_eq = reg[0]\n",
    "rvalue = reg[1]\n",
    "regress_values = reg[2]\n",
    "plt.plot(northern[\"Lat\"],regress_values,\"r-\")\n",
    "plt.annotate(line_eq,(6,10),fontsize=15,color=\"red\")\n",
    "print(f\"The r-squared is: {rvalue}\")\n",
    "plt.savefig('../output_data/northern_humidity_Lat_LinRegress.png')\n",
    "plt.show()"
   ]
  },
  {
   "cell_type": "markdown",
   "metadata": {},
   "source": [
    "####  Southern Hemisphere - Humidity (%) vs. Latitude Linear Regression"
   ]
  },
  {
   "cell_type": "code",
   "execution_count": 24,
   "metadata": {},
   "outputs": [
    {
     "name": "stdout",
     "output_type": "stream",
     "text": [
      "The r-squared is: 0.3910420893663881\n"
     ]
    },
    {
     "data": {
      "image/png": "[encoded data removed]",
      "text/plain": [
       "<Figure size 432x288 with 1 Axes>"
      ]
     },
     "metadata": {
      "needs_background": "light"
     },
     "output_type": "display_data"
    }
   ],
   "source": [
    "southern.plot.scatter(x='Lat',\n",
    "                      y='Humidity')\n",
    "plt.scatter(southern[\"Lat\"],southern[\"Humidity\"])\n",
    "plt.xlabel('Latitude')\n",
    "plt.ylabel('Humidity (%)')\n",
    "plt.title(\"City Latitude vs. Humidity (03/10/2020)\")\n",
    "reg = regression(southern[\"Lat\"],southern[\"Humidity\"])\n",
    "line_eq = reg[0]\n",
    "rvalue = reg[1]\n",
    "regress_values = reg[2]\n",
    "plt.plot(southern[\"Lat\"],regress_values,\"r-\")\n",
    "plt.annotate(line_eq,(-40,40),fontsize=15,color=\"red\")\n",
    "print(f\"The r-squared is: {rvalue}\")\n",
    "plt.savefig('../output_data/southern_humidity_Lat_LinRegress.png')\n",
    "plt.show()"
   ]
  },
  {
   "cell_type": "code",
   "execution_count": 25,
   "metadata": {},
   "outputs": [],
   "source": [
    "#We see that the southern hemisphere has a stronger coorelation to humidity and the city's latitude. \n",
    "#Showing that as the Latitude continues south of 0 Lat the Humidity slowly decreases.\n",
    "\n",
    "#The northern hemisphere does show that moving north of 0 Lat shows that humidity increases slightly."
   ]
  },
  {
   "cell_type": "markdown",
   "metadata": {},
   "source": [
    "####  Northern Hemisphere - Cloudiness (%) vs. Latitude Linear Regression"
   ]
  },
  {
   "cell_type": "code",
   "execution_count": 26,
   "metadata": {},
   "outputs": [
    {
     "name": "stdout",
     "output_type": "stream",
     "text": [
      "The r-squared is: 0.15339749670930822\n"
     ]
    },
    {
     "data": {
      "image/png": "[encoded data removed]",
      "text/plain": [
       "<Figure size 432x288 with 1 Axes>"
      ]
     },
     "metadata": {
      "needs_background": "light"
     },
     "output_type": "display_data"
    }
   ],
   "source": [
    "northern.plot.scatter(x='Lat',\n",
    "                      y='Cloudiness')\n",
    "plt.scatter(northern[\"Lat\"],northern[\"Cloudiness\"])\n",
    "plt.xlabel('Latitude')\n",
    "plt.ylabel('Cloudiness (%)')\n",
    "plt.title(\"City Latitude vs. Cloudiness (03/10/2020)\")\n",
    "reg = regression(northern[\"Lat\"],northern[\"Cloudiness\"])\n",
    "line_eq = reg[0]\n",
    "rvalue = reg[1]\n",
    "regress_values = reg[2]\n",
    "plt.plot(northern[\"Lat\"],regress_values,\"r-\")\n",
    "plt.annotate(line_eq,(6,10),fontsize=15,color=\"red\")\n",
    "print(f\"The r-squared is: {rvalue}\")\n",
    "plt.savefig('../output_data/northern_cloudiness_Lat_LinRegress.png')\n",
    "plt.show()"
   ]
  },
  {
   "cell_type": "markdown",
   "metadata": {},
   "source": [
    "####  Southern Hemisphere - Cloudiness (%) vs. Latitude Linear Regression"
   ]
  },
  {
   "cell_type": "code",
   "execution_count": 27,
   "metadata": {},
   "outputs": [
    {
     "name": "stdout",
     "output_type": "stream",
     "text": [
      "The r-squared is: 0.24156722811121295\n"
     ]
    },
    {
     "data": {
      "image/png": "[encoded data removed]",
      "text/plain": [
       "<Figure size 432x288 with 1 Axes>"
      ]
     },
     "metadata": {
      "needs_background": "light"
     },
     "output_type": "display_data"
    }
   ],
   "source": [
    "southern.plot.scatter(x='Lat',\n",
    "                      y='Cloudiness')\n",
    "plt.scatter(southern[\"Lat\"],southern[\"Cloudiness\"])\n",
    "plt.xlabel('Latitude')\n",
    "plt.ylabel('Cloudiness (%)')\n",
    "plt.title(\"City Latitude vs. Cloudiness (03/10/2020)\")\n",
    "reg = regression(southern[\"Lat\"],southern[\"Cloudiness\"])\n",
    "line_eq = reg[0]\n",
    "rvalue = reg[1]\n",
    "regress_values = reg[2]\n",
    "plt.plot(southern[\"Lat\"],regress_values,\"r-\")\n",
    "plt.annotate(line_eq,(-40,40),fontsize=15,color=\"red\")\n",
    "print(f\"The r-squared is: {rvalue}\")\n",
    "plt.savefig('../output_data/southern_cloudiness_Lat_LinRegress.png')\n",
    "plt.show()"
   ]
  },
  {
   "cell_type": "code",
   "execution_count": 28,
   "metadata": {},
   "outputs": [],
   "source": [
    "#Both of the hemispheres show a weak coorelation between the cloudiness and City Lat, \n",
    "#while showing a slight increase in cloudiness the further north the city is. "
   ]
  },
  {
   "cell_type": "markdown",
   "metadata": {},
   "source": [
    "####  Northern Hemisphere - Wind Speed (mph) vs. Latitude Linear Regression"
   ]
  },
  {
   "cell_type": "code",
   "execution_count": 29,
   "metadata": {},
   "outputs": [
    {
     "name": "stdout",
     "output_type": "stream",
     "text": [
      "The r-squared is: 0.3016482283107885\n"
     ]
    },
    {
     "data": {
      "image/png": "[encoded data removed]",
      "text/plain": [
       "<Figure size 432x288 with 1 Axes>"
      ]
     },
     "metadata": {
      "needs_background": "light"
     },
     "output_type": "display_data"
    }
   ],
   "source": [
    "northern.plot.scatter(x='Lat',\n",
    "                      y='Wind Speed')\n",
    "plt.scatter(northern[\"Lat\"],northern[\"Wind Speed\"])\n",
    "plt.xlabel('Latitude')\n",
    "plt.ylabel('Wind Speed (mph)')\n",
    "plt.title(\"City Latitude vs. Wind Speed (03/10/2020)\")\n",
    "reg = regression(northern[\"Lat\"],northern[\"Wind Speed\"])\n",
    "line_eq = reg[0]\n",
    "rvalue = reg[1]\n",
    "regress_values = reg[2]\n",
    "plt.plot(northern[\"Lat\"],regress_values,\"r-\")\n",
    "plt.annotate(line_eq,(6,40),fontsize=15,color=\"red\")\n",
    "print(f\"The r-squared is: {rvalue}\")\n",
    "plt.savefig('../output_data/northern_windspeed_Lat_LinRegress.png')\n",
    "plt.show()"
   ]
  },
  {
   "cell_type": "markdown",
   "metadata": {},
   "source": [
    "####  Southern Hemisphere - Wind Speed (mph) vs. Latitude Linear Regression"
   ]
  },
  {
   "cell_type": "code",
   "execution_count": 30,
   "metadata": {},
   "outputs": [
    {
     "name": "stdout",
     "output_type": "stream",
     "text": [
      "The r-squared is: -0.44150402843184433\n"
     ]
    },
    {
     "data": {
      "image/png": "[encoded data removed]",
      "text/plain": [
       "<Figure size 432x288 with 1 Axes>"
      ]
     },
     "metadata": {
      "needs_background": "light"
     },
     "output_type": "display_data"
    }
   ],
   "source": [
    "southern.plot.scatter(x='Lat',\n",
    "                      y='Wind Speed')\n",
    "plt.scatter(southern[\"Lat\"],southern[\"Wind Speed\"])\n",
    "plt.xlabel('Latitude')\n",
    "plt.ylabel('Wind Speed (mph)')\n",
    "plt.title(\"City Latitude vs. Wind Speed (03/10/2020)\")\n",
    "reg = regression(southern[\"Lat\"],southern[\"Wind Speed\"])\n",
    "line_eq = reg[0]\n",
    "rvalue = reg[1]\n",
    "regress_values = reg[2]\n",
    "plt.plot(southern[\"Lat\"],regress_values,\"r-\")\n",
    "plt.annotate(line_eq,(-40,25),fontsize=15,color=\"red\")\n",
    "print(f\"The r-squared is: {rvalue}\")\n",
    "plt.savefig('../output_data/southern_windspeed_Lat_LinRegress.png')\n",
    "plt.show()"
   ]
  },
  {
   "cell_type": "code",
   "execution_count": 31,
   "metadata": {},
   "outputs": [],
   "source": [
    "#These correlations show that when moving away from the 0 Lat the winds increase slightly. \n",
    "#However the Southern Hemisphere shows a strong correlation between the wind speed and the latitude."
   ]
  }
 ],
 "metadata": {
  "anaconda-cloud": {},
  "kernel_info": {
   "name": "python3"
  },
  "kernelspec": {
   "display_name": "Python 3",
   "language": "python",
   "name": "python3"
  },
  "language_info": {
   "codemirror_mode": {
    "name": "ipython",
    "version": 3
   },
   "file_extension": ".py",
   "mimetype": "text/x-python",
   "name": "python",
   "nbconvert_exporter": "python",
   "pygments_lexer": "ipython3",
   "version": "3.7.4"
  },
  "latex_envs": {
   "LaTeX_envs_menu_present": true,
   "autoclose": false,
   "autocomplete": true,
   "bibliofile": "biblio.bib",
   "cite_by": "apalike",
   "current_citInitial": 1,
   "eqLabelWithNumbers": true,
   "eqNumInitial": 1,
   "hotkeys": {
    "equation": "Ctrl-E",
    "itemize": "Ctrl-I"
   },
   "labels_anchors": false,
   "latex_user_defs": false,
   "report_style_numbering": false,
   "user_envs_cfg": false
  },
  "nteract": {
   "version": "0.12.3"
  }
 },
 "nbformat": 4,
 "nbformat_minor": 2
}
