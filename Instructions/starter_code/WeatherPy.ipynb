{
 "cells": [
  {
   "cell_type": "markdown",
   "metadata": {},
   "source": [
    "# WeatherPy\n",
    "----\n",
    "\n",
    "#### Note\n",
    "* Instructions have been included for each segment. You do not have to follow them exactly, but they are included to help you think through the steps."
   ]
  },
  {
   "cell_type": "code",
   "execution_count": 5,
   "metadata": {
    "scrolled": true
   },
   "outputs": [],
   "source": [
    "# Dependencies and Setup\n",
    "import matplotlib.pyplot as plt\n",
    "import pandas as pd\n",
    "import numpy as np\n",
    "import requests\n",
    "import time\n",
    "from scipy.stats import linregress\n",
    "\n",
    "# Import API key\n",
    "from api_keys import weather_api_key\n",
    "\n",
    "# Incorporated citipy to determine city based on latitude and longitude\n",
    "from citipy import citipy\n",
    "\n",
    "\n",
    "# Output File (CSV)\n",
    "output_data_file = \"output_data/cities.csv\"\n",
    "\n",
    "# Range of latitudes and longitudes\n",
    "lat_range = (-90, 90)\n",
    "lng_range = (-180, 180)"
   ]
  },
  {
   "cell_type": "code",
   "execution_count": 4,
   "metadata": {},
   "outputs": [
    {
     "name": "stdout",
     "output_type": "stream",
     "text": [
      "Collecting citipy\n",
      "\u001b[?25l  Downloading https://files.pythonhosted.org/packages/3b/d0/59721d0f3954781488aac17ee4a40412d0a3547e98bb16377a09c39a2807/citipy-0.0.5.tar.gz (557kB)\n",
      "\u001b[K     |████████████████████████████████| 563kB 1.2MB/s eta 0:00:01\n",
      "\u001b[?25hCollecting kdtree>=0.12 (from citipy)\n",
      "  Downloading https://files.pythonhosted.org/packages/00/3d/bd727d025b1706798aae14da3f69fc7d5a8639dc9e0eba37c7dcd43eb03e/kdtree-0.16-py2.py3-none-any.whl\n",
      "Building wheels for collected packages: citipy\n",
      "  Building wheel for citipy (setup.py) ... \u001b[?25ldone\n",
      "\u001b[?25h  Created wheel for citipy: filename=citipy-0.0.5-cp37-none-any.whl size=559703 sha256=79a70a94e19cb8f37bfa66f3c8c05d49cd429041678b61e629a0eeeb0a0872e3\n",
      "  Stored in directory: /Users/Wendy/Library/Caches/pip/wheels/6f/07/0d/0392639cf1c10376f59decd06775c0e085ca2458c6036c1028\n",
      "Successfully built citipy\n",
      "Installing collected packages: kdtree, citipy\n",
      "Successfully installed citipy-0.0.5 kdtree-0.16\n",
      "Note: you may need to restart the kernel to use updated packages.\n"
     ]
    }
   ],
   "source": [
    "pip install citipy"
   ]
  },
  {
   "cell_type": "markdown",
   "metadata": {},
   "source": [
    "## Generate Cities List"
   ]
  },
  {
   "cell_type": "code",
   "execution_count": 6,
   "metadata": {},
   "outputs": [
    {
     "data": {
      "text/plain": [
       "608"
      ]
     },
     "execution_count": 6,
     "metadata": {},
     "output_type": "execute_result"
    }
   ],
   "source": [
    "# List for holding lat_lngs and cities\n",
    "lat_lngs = []\n",
    "cities = []\n",
    "\n",
    "# Create a set of random lat and lng combinations\n",
    "lats = np.random.uniform(low=-90.000, high=90.000, size=1500)\n",
    "lngs = np.random.uniform(low=-180.000, high=180.000, size=1500)\n",
    "lat_lngs = zip(lats, lngs)\n",
    "\n",
    "# Identify nearest city for each lat, lng combination\n",
    "for lat_lng in lat_lngs:\n",
    "    city = citipy.nearest_city(lat_lng[0], lat_lng[1]).city_name\n",
    "    \n",
    "    # If the city is unique, then add it to a our cities list\n",
    "    if city not in cities:\n",
    "        cities.append(city)\n",
    "\n",
    "# Print the city count to confirm sufficient count\n",
    "len(cities)"
   ]
  },
  {
   "cell_type": "code",
   "execution_count": 7,
   "metadata": {},
   "outputs": [
    {
     "name": "stdout",
     "output_type": "stream",
     "text": [
      "['kodiak', 'puerto ayora', 'harper', 'hermanus', 'kavieng', 'tukrah', 'chifeng', 'bengkulu', 'guerrero negro', 'bibiani', 'busselton', 'port-de-bouc', 'barentsburg', 'cape town', 'kavali', 'faya', 'mahebourg', 'hamilton', 'lethem', 'albany', 'rikitea', 'victoria', 'vaini', 'barrow', 'jhansi', 'tuktoyaktuk', 'mar del plata', 'carnarvon', 'saskylakh', 'iqaluit', 'georgetown', 'ushuaia', 'castro', 'yar-sale', 'salamiyah', 'moyale', 'auki', 'maloy', 'soyo', 'alice springs', 'punta arenas', 'hobyo', 'naze', 'kaniama', 'fortuna', 'kahului', 'krasnyy chikoy', 'lavrentiya', 'arcata', 'nichinan', 'sokoni', 'bud', 'khatanga', 'yellowknife', 'susaki', 'azimur', 'grand river south east', 'butaritari', 'fano', 'souillac', 'east london', 'berlevag', 'wanaka', 'new norfolk', 'port elizabeth', 'mataura', 'mys shmidta', 'rawson', 'dossor', 'coihueco', 'arraial do cabo', 'itupiranga', 'nikolskoye', 'risor', 'marcona', 'bluff', 'lind', 'goderich', 'geraldton', 'tapejara', 'leningradskiy', 'dunedin', 'pawa', 'pevek', 'honiara', 'atuona', 'ostrovnoy', 'saint-francois', 'radyvyliv', 'henties bay', 'rio gallegos', 'tessalit', 'mount gambier', 'chuy', 'san andres', 'vaitupu', 'bredasdorp', 'belushya guba', 'orlik', 'grand gaube', 'yago', 'tomatlan', 'mocuba', 'ponta do sol', 'shihezi', 'longyan', 'wadowice', 'qaanaaq', 'taolanaro', 'katsuura', 'malkangiri', 'clyde river', 'rio verde de mato grosso', 'ovsyanka', 'hasaki', 'ancud', 'ribeira grande', 'port alfred', 'bethel', 'salalah', 'cookeville', 'faanui', 'husavik', 'hilo', 'te anau', 'comodoro rivadavia', 'evensk', 'manta', 'norman wells', 'north platte', 'klaksvik', 'sola', 'hobart', 'riviere-au-renard', 'tsihombe', 'bambous virieux', 'chokurdakh', 'damietta', 'torbay', 'bereda', 'mtwara', 'lebu', 'avarua', 'quelimane', 'salitral', 'kenai', 'sao joao da barra', 'olkhovka', 'dhari', 'bismarck', 'itarema', 'hofn', 'troitskoye', 'ormara', 'kapaa', 'xifeng', 'salinas', 'altay', 'xingyi', 'quatre cocos', 'yongchang', 'lasa', 'shadegan', 'ascension', 'san cristobal', 'cabo san lucas', 'saint-philippe', 'alexandria', 'dikson', 'jalor', 'port hardy', 'porbandar', 'leshukonskoye', 'jiwani', 'mahibadhoo', 'boueni', 'zlobin', 'provideniya', 'buala', 'carinhanha', 'roald', 'skjervoy', 'okha', 'bac lieu', 'ketchikan', 'diffa', 'nizhneyansk', 'newala', 'cherskiy', 'zhoucheng', 'necochea', 'nouadhibou', 'antsohihy', 'cayenne', 'margate', 'kaitangata', 'fort nelson', 'masjed-e soleyman', 'muyezerskiy', 'aswan', 'san policarpo', 'brae', 'umea', 'svetlyy', 'dubai', 'turriff', 'sibu', 'guipavas', 'ailigandi', 'jamestown', 'ballitoville', 'kavaratti', 'tarko-sale', 'kota kinabalu', 'isiro', 'zapolyarnyy', 'north myrtle beach', 'thompson', 'tura', 'udachnyy', 'brookside', 'los llanos de aridane', 'lerwick', 'simbahan', 'kimberley', 'vardo', 'tiksi', 'atar', 'west bay', 'ilulissat', 'broken hill', 'wakkanai', 'saint george', 'termini imerese', 'oussouye', 'pula', 'louisbourg', 'shemonaikha', 'sentyabrskiy', 'batagay', 'sinnamary', 'cidreira', 'gushikawa', 'irbeyskoye', 'noumea', 'newport', 'baykit', 'nguiu', 'boende', 'riofrio', 'omagari', 'lompoc', 'omboue', 'vila franca do campo', 'acarau', 'bowen', 'ugoofaaru', 'tambopata', 'phimai', 'gabu', 'varhaug', 'liverpool', 'la ronge', 'lolua', 'ucluelet', 'moroni', 'kaohsiung', 'yima', 'waynesville', 'rumphi', 'gayny', 'aflu', 'conselheiro lafaiete', 'miri', 'srednekolymsk', 'irbil', 'litoral del san juan', 'pelotas', 'aranos', 'seydi', 'mount isa', 'balkhash', 'upernavik', 'haines junction', 'nizhnyaya omka', 'bilibino', 'narsaq', 'burnie', 'praia', 'orotukan', 'vitim', 'tuatapere', 'umzimvubu', 'pacific grove', 'campina verde', 'moundou', 'padang', 'pombal', 'coahuayana', 'aykhal', 'honningsvag', 'ayagoz', 'sirvintos', 'matou', 'barcelona', 'arlit', 'clarksville', 'skalistyy', 'mama', 'fort saint john', 'qasigiannguit', 'kayerkan', 'emba', 'sept-iles', 'nioro', 'chernyshevskiy', 'belyy yar', 'lac du bonnet', 'kutum', 'basco', 'tsiroanomandidy', 'havoysund', 'tynda', 'tilichiki', 'banda aceh', 'torrevieja', 'hithadhoo', 'tabou', 'wanning', 'ambon', 'morondava', 'severo-kurilsk', 'phan thiet', 'madimba', 'bourail', 'gornopravdinsk', 'otavi', 'keshabpur', 'san vicente', 'lubao', 'guarapari', 'saryshagan', 'pisco', 'puebla', 'donskoye', 'flin flon', 'senneterre', 'ferme-neuve', 'bandarbeyla', 'abha', 'luderitz', 'matara', 'kysyl-syr', 'talnakh', 'antalaha', 'flinders', 'talcahuano', 'maniitsoq', 'centenario do sul', 'gamba', 'skaelskor', 'airai', 'sao filipe', 'natchitoches', 'coquimbo', 'yining', 'gurgan', 'pitsunda', 'senno', 'sechura', 'leh', 'keflavik', 'paita', 'yulara', 'ust-kamchatsk', 'aquiraz', 'valdivia', 'tierranueva', 'wulanhaote', 'trinidad', 'nara', 'richards bay', 'khonuu', 'karlskrona', 'nang rong', 'sorong', 'hokitika', 'malwan', 'shu', 'kadykchan', 'grindavik', 'grand-lahou', 'rocha', 'bukachacha', 'katobu', 'illoqqortoormiut', 'riyadh', 'havre-saint-pierre', 'senges', 'le port', 'seryshevo', 'brandon', 'plouzane', 'gyula', 'longyearbyen', 'beyneu', 'yerbogachen', 'houston', 'rawatsar', 'kodinsk', 'puerto escondido', 'saint-pierre', 'muros', 'khorol', 'bayanday', 'attawapiskat', 'dwarka', 'brynmawr', 'sitka', 'lorengau', 'ruthin', 'ripoll', 'jumla', 'thinadhoo', 'kulhudhuffushi', 'tasiilaq', 'vallenar', 'stolbishche', 'parintins', 'pincher creek', 'ust-omchug', 'kampong thum', 'japura', 'ihiala', 'tasbuget', 'ust-barguzin', 'la crosse', 'xiamen', 'jijiga', 'coihaique', 'nikolayevsk-na-amure', 'aksum', 'vostok', 'shakawe', 'rapar', 'sangar', 'synya', 'maceio', 'ryotsu', 'sarangani', 'biak', 'biltine', 'koumac', 'puerto madryn', 'khandyga', 'amderma', 'pak phanang', 'yatou', 'shirakawa', 'sar-e pul', 'lida', 'alofi', 'hovd', 'toliary', 'qaqortoq', 'kenora', 'shingu', 'taoudenni', 'samarai', 'walvis bay', 'san quintin', 'mackay', 'bilma', 'nisko', 'gotsu', 'codrington', 'korla', 'poli', 'dingle', 'saint-augustin', 'kapiri mposhi', 'okandja', 'college', 'mana', 'rio grande', 'puyang', 'pumiao', 'suhut', 'san patricio', 'wattegama', 'burns lake', 'ijuin', 'kaeo', 'liwonde', 'oriximina', 'ryazan', 'santa maria', 'fort-shevchenko', 'santa eulalia del rio', 'jardim', 'mount pleasant', 'bairiki', 'zyryanka', 'nerchinskiy zavod', 'whitehorse', 'lae', 'svetlogorsk', 'taltal', 'imelda', 'bestobe', 'redwater', 'dabat', 'valparaiso', 'tidore', 'nanortalik', 'batalha', 'anadyr', 'jarwal', 'aklavik', 'iskateley', 'cumaribo', 'caldas novas', 'chalisgaon', 'holland', 'tubinskiy', 'bontang', 'lata', 'asau', 'esperance', 'esna', 'elko', 'dhidhdhoo', 'pemba', 'mendahara', 'sarankhola', 'barra patuca', 'wlodawa', 'imbituba', 'bridlington', 'veraval', 'gorontalo', 'isangel', 'chagda', 'klyuchi', 'caravelas', 'paoua', 'carmo do paranaiba', 'arman', 'cabinda', 'canarana', 'nome', 'mandalgovi', 'mahajanga', 'cuamba', 'alta floresta', 'muroto', 'aransas pass', 'yumen', 'xai-xai', 'samusu', 'belaya gora', 'manitouwadge', 'neuquen', 'piacabucu', 'ginir', 'pitimbu', 'marigot', 'corowa', 'hay river', 'poum', 'san jose', 'sembakung', 'lagoa', 'tuymazy', 'komsomolskiy', 'maragogi', 'teahupoo', 'ukiah', 'odienne', 'dahuk', 'berkak', 'san isidro', 'jatibonico', 'abu zabad', 'waipawa', 'saldanha', 'cartagena del chaira', 'uvalde', 'vale da amoreira', 'ambalavao', 'moses lake', 'metro', 'oistins', 'parabel', 'kalamazoo', 'columbia', 'longlac', 'redlands', 'vestmannaeyjar', 'kismayo', 'gat', 'shitanjing', 'bathsheba', 'narrabri', 'pestretsy', 'amga', 'mastic beach', 'ferndale']\n"
     ]
    }
   ],
   "source": [
    "print(cities)"
   ]
  },
  {
   "cell_type": "code",
   "execution_count": null,
   "metadata": {},
   "outputs": [],
   "source": []
  },
  {
   "cell_type": "markdown",
   "metadata": {},
   "source": [
    "### Perform API Calls\n",
    "* Perform a weather check on each city using a series of successive API calls.\n",
    "* Include a print log of each city as it'sbeing processed (with the city number and city name).\n"
   ]
  },
  {
   "cell_type": "code",
   "execution_count": null,
   "metadata": {},
   "outputs": [],
   "source": []
  },
  {
   "cell_type": "code",
   "execution_count": null,
   "metadata": {},
   "outputs": [],
   "source": []
  },
  {
   "cell_type": "code",
   "execution_count": null,
   "metadata": {},
   "outputs": [],
   "source": []
  },
  {
   "cell_type": "code",
   "execution_count": null,
   "metadata": {},
   "outputs": [],
   "source": []
  },
  {
   "cell_type": "markdown",
   "metadata": {},
   "source": [
    "### Convert Raw Data to DataFrame\n",
    "* Export the city data into a .csv.\n",
    "* Display the DataFrame"
   ]
  },
  {
   "cell_type": "code",
   "execution_count": null,
   "metadata": {},
   "outputs": [],
   "source": []
  },
  {
   "cell_type": "code",
   "execution_count": null,
   "metadata": {},
   "outputs": [],
   "source": []
  },
  {
   "cell_type": "markdown",
   "metadata": {},
   "source": [
    "### Plotting the Data\n",
    "* Use proper labeling of the plots using plot titles (including date of analysis) and axes labels.\n",
    "* Save the plotted figures as .pngs."
   ]
  },
  {
   "cell_type": "markdown",
   "metadata": {},
   "source": [
    "#### Latitude vs. Temperature Plot"
   ]
  },
  {
   "cell_type": "code",
   "execution_count": null,
   "metadata": {
    "scrolled": true
   },
   "outputs": [],
   "source": []
  },
  {
   "cell_type": "markdown",
   "metadata": {},
   "source": [
    "#### Latitude vs. Humidity Plot"
   ]
  },
  {
   "cell_type": "code",
   "execution_count": null,
   "metadata": {},
   "outputs": [],
   "source": []
  },
  {
   "cell_type": "markdown",
   "metadata": {},
   "source": [
    "#### Latitude vs. Cloudiness Plot"
   ]
  },
  {
   "cell_type": "code",
   "execution_count": null,
   "metadata": {},
   "outputs": [],
   "source": []
  },
  {
   "cell_type": "markdown",
   "metadata": {},
   "source": [
    "#### Latitude vs. Wind Speed Plot"
   ]
  },
  {
   "cell_type": "code",
   "execution_count": null,
   "metadata": {},
   "outputs": [],
   "source": []
  },
  {
   "cell_type": "markdown",
   "metadata": {},
   "source": [
    "## Linear Regression"
   ]
  },
  {
   "cell_type": "code",
   "execution_count": null,
   "metadata": {},
   "outputs": [],
   "source": [
    "# OPTIONAL: Create a function to create Linear Regression plots\n"
   ]
  },
  {
   "cell_type": "code",
   "execution_count": null,
   "metadata": {},
   "outputs": [],
   "source": [
    "# Create Northern and Southern Hemisphere DataFrames\n"
   ]
  },
  {
   "cell_type": "markdown",
   "metadata": {},
   "source": [
    "####  Northern Hemisphere - Max Temp vs. Latitude Linear Regression"
   ]
  },
  {
   "cell_type": "code",
   "execution_count": null,
   "metadata": {},
   "outputs": [],
   "source": []
  },
  {
   "cell_type": "markdown",
   "metadata": {},
   "source": [
    "####  Southern Hemisphere - Max Temp vs. Latitude Linear Regression"
   ]
  },
  {
   "cell_type": "code",
   "execution_count": null,
   "metadata": {},
   "outputs": [],
   "source": []
  },
  {
   "cell_type": "markdown",
   "metadata": {},
   "source": [
    "####  Northern Hemisphere - Humidity (%) vs. Latitude Linear Regression"
   ]
  },
  {
   "cell_type": "code",
   "execution_count": null,
   "metadata": {},
   "outputs": [],
   "source": []
  },
  {
   "cell_type": "markdown",
   "metadata": {},
   "source": [
    "####  Southern Hemisphere - Humidity (%) vs. Latitude Linear Regression"
   ]
  },
  {
   "cell_type": "code",
   "execution_count": null,
   "metadata": {},
   "outputs": [],
   "source": []
  },
  {
   "cell_type": "markdown",
   "metadata": {},
   "source": [
    "####  Northern Hemisphere - Cloudiness (%) vs. Latitude Linear Regression"
   ]
  },
  {
   "cell_type": "code",
   "execution_count": null,
   "metadata": {},
   "outputs": [],
   "source": []
  },
  {
   "cell_type": "markdown",
   "metadata": {},
   "source": [
    "####  Southern Hemisphere - Cloudiness (%) vs. Latitude Linear Regression"
   ]
  },
  {
   "cell_type": "code",
   "execution_count": null,
   "metadata": {},
   "outputs": [],
   "source": []
  },
  {
   "cell_type": "markdown",
   "metadata": {},
   "source": [
    "####  Northern Hemisphere - Wind Speed (mph) vs. Latitude Linear Regression"
   ]
  },
  {
   "cell_type": "code",
   "execution_count": null,
   "metadata": {},
   "outputs": [],
   "source": []
  },
  {
   "cell_type": "markdown",
   "metadata": {},
   "source": [
    "####  Southern Hemisphere - Wind Speed (mph) vs. Latitude Linear Regression"
   ]
  },
  {
   "cell_type": "code",
   "execution_count": null,
   "metadata": {},
   "outputs": [],
   "source": []
  },
  {
   "cell_type": "code",
   "execution_count": null,
   "metadata": {},
   "outputs": [],
   "source": []
  }
 ],
 "metadata": {
  "anaconda-cloud": {},
  "kernel_info": {
   "name": "python3"
  },
  "kernelspec": {
   "display_name": "Python 3",
   "language": "python",
   "name": "python3"
  },
  "language_info": {
   "codemirror_mode": {
    "name": "ipython",
    "version": 3
   },
   "file_extension": ".py",
   "mimetype": "text/x-python",
   "name": "python",
   "nbconvert_exporter": "python",
   "pygments_lexer": "ipython3",
   "version": "3.7.4"
  },
  "latex_envs": {
   "LaTeX_envs_menu_present": true,
   "autoclose": false,
   "autocomplete": true,
   "bibliofile": "biblio.bib",
   "cite_by": "apalike",
   "current_citInitial": 1,
   "eqLabelWithNumbers": true,
   "eqNumInitial": 1,
   "hotkeys": {
    "equation": "Ctrl-E",
    "itemize": "Ctrl-I"
   },
   "labels_anchors": false,
   "latex_user_defs": false,
   "report_style_numbering": false,
   "user_envs_cfg": false
  },
  "nteract": {
   "version": "0.12.3"
  }
 },
 "nbformat": 4,
 "nbformat_minor": 2
}
